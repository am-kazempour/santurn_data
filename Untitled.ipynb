{
 "cells": [
  {
   "cell_type": "code",
   "execution_count": 12,
   "id": "12e7827e-3ca9-4857-9155-b03372ccd086",
   "metadata": {
    "execution": {
     "iopub.execute_input": "2023-11-16T11:16:37.220696Z",
     "iopub.status.busy": "2023-11-16T11:16:37.220314Z",
     "iopub.status.idle": "2023-11-16T11:16:37.224476Z",
     "shell.execute_reply": "2023-11-16T11:16:37.223716Z",
     "shell.execute_reply.started": "2023-11-16T11:16:37.220673Z"
    },
    "tags": []
   },
   "outputs": [],
   "source": [
    "import numpy as np\n",
    "import pandas as pd\n",
    "from sklearn.neural_network import MLPClassifier\n",
    "from sklearn.metrics import accuracy_score"
   ]
  },
  {
   "cell_type": "code",
   "execution_count": 18,
   "id": "06ff1f93-4fdf-4c0a-820b-a6ba9ec3e9d2",
   "metadata": {
    "execution": {
     "iopub.execute_input": "2023-11-16T11:22:14.249124Z",
     "iopub.status.busy": "2023-11-16T11:22:14.248713Z",
     "iopub.status.idle": "2023-11-16T11:22:14.255055Z",
     "shell.execute_reply": "2023-11-16T11:22:14.254294Z",
     "shell.execute_reply.started": "2023-11-16T11:22:14.249101Z"
    },
    "tags": []
   },
   "outputs": [],
   "source": [
    "def open_dataset(X_path,y_path):\n",
    "\n",
    "    with open(\"datasets/mnist/\"+X_path,'rb') as file:\n",
    "        \n",
    "        magic_number = int.from_bytes(file.read(4), byteorder='big')\n",
    "        num_images = int.from_bytes(file.read(4), byteorder='big')\n",
    "        num_rows = int.from_bytes(file.read(4), byteorder='big')\n",
    "        num_cols = int.from_bytes(file.read(4), byteorder='big')\n",
    "\n",
    "        df = np.fromfile(file,dtype=np.uint8)\n",
    "        df = df.reshape(num_images, num_rows*num_cols)\n",
    "        df = pd.DataFrame(df)\n",
    "\n",
    "    with open(\"datasets/mnist/\"+y_path,'rb') as file:\n",
    "        magic_number = int.from_bytes(file.read(4), byteorder='big')\n",
    "        num_images = int.from_bytes(file.read(4), byteorder='big')\n",
    "        \n",
    "        y = np.fromfile(file,dtype=np.uint8)\n",
    "    \n",
    "    return df,y"
   ]
  },
  {
   "cell_type": "code",
   "execution_count": 22,
   "id": "7067251c-b68c-4f8a-a7c0-f15098716a3b",
   "metadata": {
    "execution": {
     "iopub.execute_input": "2023-11-16T11:25:18.154060Z",
     "iopub.status.busy": "2023-11-16T11:25:18.153655Z",
     "iopub.status.idle": "2023-11-16T11:25:18.311267Z",
     "shell.execute_reply": "2023-11-16T11:25:18.310640Z",
     "shell.execute_reply.started": "2023-11-16T11:25:18.154036Z"
    },
    "tags": []
   },
   "outputs": [],
   "source": [
    "x_train,y_train = open_dataset('train-images.idx3-ubyte','train-labels.idx1-ubyte')\n",
    "x_test,y_test = open_dataset('t10k-images.idx3-ubyte','t10k-labels.idx1-ubyte')\n",
    "\n",
    "x_train , x_test = x_train/255, x_test/255"
   ]
  },
  {
   "cell_type": "code",
   "execution_count": 24,
   "id": "16ed0b50-cbdb-40a3-a063-d00f35be8e23",
   "metadata": {
    "execution": {
     "iopub.execute_input": "2023-11-16T11:29:16.978183Z",
     "iopub.status.busy": "2023-11-16T11:29:16.977500Z",
     "iopub.status.idle": "2023-11-16T11:29:42.958224Z",
     "shell.execute_reply": "2023-11-16T11:29:42.957129Z",
     "shell.execute_reply.started": "2023-11-16T11:29:16.978159Z"
    },
    "tags": []
   },
   "outputs": [
    {
     "name": "stdout",
     "output_type": "stream",
     "text": [
      "Iteration 1, loss = 0.20453344\n",
      "Iteration 2, loss = 0.08364590\n",
      " 97.26%\n"
     ]
    },
    {
     "name": "stderr",
     "output_type": "stream",
     "text": [
      "/opt/saturncloud/envs/saturn/lib/python3.9/site-packages/sklearn/neural_network/_multilayer_perceptron.py:692: ConvergenceWarning: Stochastic Optimizer: Maximum iterations (2) reached and the optimization hasn't converged yet.\n",
      "  warnings.warn(\n"
     ]
    }
   ],
   "source": [
    "model = MLPClassifier(\n",
    "    hidden_layer_sizes=(512, 256, 128), \n",
    "    activation='relu', \n",
    "    max_iter=2, \n",
    "    batch_size=64, \n",
    "    verbose=True\n",
    ")\n",
    "x = model.fit(x_train, y_train)\n",
    "\n",
    "predictions = model.predict(x_test)\n",
    "\n",
    "# ارزیابی مدل\n",
    "accuracy = accuracy_score(y_test, predictions)\n",
    "print(f' {accuracy * 100:.2f}%')"
   ]
  },
  {
   "cell_type": "code",
   "execution_count": 26,
   "id": "ef5c7ef8-2f21-4ee1-a5ca-a4e7b9d10784",
   "metadata": {
    "execution": {
     "iopub.execute_input": "2023-11-16T11:31:35.878172Z",
     "iopub.status.busy": "2023-11-16T11:31:35.877784Z",
     "iopub.status.idle": "2023-11-16T11:31:35.989029Z",
     "shell.execute_reply": "2023-11-16T11:31:35.988170Z",
     "shell.execute_reply.started": "2023-11-16T11:31:35.878145Z"
    },
    "tags": []
   },
   "outputs": [
    {
     "name": "stdout",
     "output_type": "stream",
     "text": [
      "0.9726\n"
     ]
    }
   ],
   "source": [
    "print(model.score(x_test,y_test))"
   ]
  }
 ],
 "metadata": {
  "kernelspec": {
   "display_name": "saturn (Python 3)",
   "language": "python",
   "name": "python3"
  },
  "language_info": {
   "codemirror_mode": {
    "name": "ipython",
    "version": 3
   },
   "file_extension": ".py",
   "mimetype": "text/x-python",
   "name": "python",
   "nbconvert_exporter": "python",
   "pygments_lexer": "ipython3",
   "version": "3.9.15"
  }
 },
 "nbformat": 4,
 "nbformat_minor": 5
}
