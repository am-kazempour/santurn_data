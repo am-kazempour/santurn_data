{
 "cells": [
  {
   "cell_type": "code",
   "execution_count": 1,
   "id": "4011fc16-ce08-41c5-bdac-486b9140f17a",
   "metadata": {
    "execution": {
     "iopub.execute_input": "2023-11-28T14:37:38.974975Z",
     "iopub.status.busy": "2023-11-28T14:37:38.974651Z",
     "iopub.status.idle": "2023-11-28T14:37:41.918143Z",
     "shell.execute_reply": "2023-11-28T14:37:41.917521Z",
     "shell.execute_reply.started": "2023-11-28T14:37:38.974946Z"
    },
    "tags": []
   },
   "outputs": [
    {
     "name": "stderr",
     "output_type": "stream",
     "text": [
      "/opt/saturncloud/envs/saturn/lib/python3.9/site-packages/scipy/__init__.py:146: UserWarning: A NumPy version >=1.17.3 and <1.25.0 is required for this version of SciPy (detected version 1.26.2\n",
      "  warnings.warn(f\"A NumPy version >={np_minversion} and <{np_maxversion}\"\n",
      "2023-11-28 14:37:40.483245: I external/local_tsl/tsl/cuda/cudart_stub.cc:31] Could not find cuda drivers on your machine, GPU will not be used.\n",
      "2023-11-28 14:37:40.524701: E external/local_xla/xla/stream_executor/cuda/cuda_dnn.cc:9261] Unable to register cuDNN factory: Attempting to register factory for plugin cuDNN when one has already been registered\n",
      "2023-11-28 14:37:40.524731: E external/local_xla/xla/stream_executor/cuda/cuda_fft.cc:607] Unable to register cuFFT factory: Attempting to register factory for plugin cuFFT when one has already been registered\n",
      "2023-11-28 14:37:40.525929: E external/local_xla/xla/stream_executor/cuda/cuda_blas.cc:1515] Unable to register cuBLAS factory: Attempting to register factory for plugin cuBLAS when one has already been registered\n",
      "2023-11-28 14:37:40.532462: I external/local_tsl/tsl/cuda/cudart_stub.cc:31] Could not find cuda drivers on your machine, GPU will not be used.\n",
      "2023-11-28 14:37:40.533349: I tensorflow/core/platform/cpu_feature_guard.cc:182] This TensorFlow binary is optimized to use available CPU instructions in performance-critical operations.\n",
      "To enable the following instructions: AVX2 AVX512F FMA, in other operations, rebuild TensorFlow with the appropriate compiler flags.\n",
      "2023-11-28 14:37:41.331813: W tensorflow/compiler/tf2tensorrt/utils/py_utils.cc:38] TF-TRT Warning: Could not find TensorRT\n"
     ]
    }
   ],
   "source": [
    "from __future__ import unicode_literals\n",
    "\n",
    "import re\n",
    "\n",
    "import matplotlib.pyplot as plt\n",
    "import nltk\n",
    "import numpy as np\n",
    "import pandas as pd\n",
    "from nltk.corpus import stopwords\n",
    "from sklearn.metrics import (\n",
    "    accuracy_score,\n",
    "    confusion_matrix,\n",
    "    f1_score,\n",
    "    precision_score,\n",
    "    recall_score,\n",
    ")\n",
    "from tensorflow.keras.layers import GRU, Bidirectional, Dense, Dropout, Embedding,LSTM\n",
    "from tensorflow.keras.models import Sequential\n",
    "from tensorflow.keras.preprocessing.sequence import pad_sequences\n",
    "from tensorflow.keras.preprocessing.text import Tokenizer"
   ]
  },
  {
   "cell_type": "code",
   "execution_count": 2,
   "id": "1fad341d-3ebd-4e94-88ae-49ab4e02bd6f",
   "metadata": {
    "execution": {
     "iopub.execute_input": "2023-11-28T14:37:44.839097Z",
     "iopub.status.busy": "2023-11-28T14:37:44.838734Z",
     "iopub.status.idle": "2023-11-28T14:37:44.878109Z",
     "shell.execute_reply": "2023-11-28T14:37:44.877330Z",
     "shell.execute_reply.started": "2023-11-28T14:37:44.839075Z"
    },
    "tags": []
   },
   "outputs": [
    {
     "name": "stderr",
     "output_type": "stream",
     "text": [
      "[nltk_data] Downloading package stopwords to /home/jovyan/nltk_data...\n",
      "[nltk_data]   Package stopwords is already up-to-date!\n"
     ]
    },
    {
     "data": {
      "text/plain": [
       "True"
      ]
     },
     "execution_count": 2,
     "metadata": {},
     "output_type": "execute_result"
    }
   ],
   "source": [
    "# Download NLTK resources\n",
    "nltk.download(\"stopwords\")"
   ]
  },
  {
   "cell_type": "code",
   "execution_count": 3,
   "id": "3003ee23-179b-4f1f-b220-aa5b38479e50",
   "metadata": {
    "execution": {
     "iopub.execute_input": "2023-11-28T14:37:46.997659Z",
     "iopub.status.busy": "2023-11-28T14:37:46.997287Z",
     "iopub.status.idle": "2023-11-28T14:37:47.102708Z",
     "shell.execute_reply": "2023-11-28T14:37:47.102132Z",
     "shell.execute_reply.started": "2023-11-28T14:37:46.997634Z"
    },
    "tags": []
   },
   "outputs": [],
   "source": [
    "df = pd.read_csv(\"dataset/semeval-2017-train.csv\", on_bad_lines=\"skip\", sep=\"\\t\")\n",
    "df_t = pd.read_csv(\"dataset/semeval-2017-test.csv\", on_bad_lines=\"skip\", sep=\"\\t\")"
   ]
  },
  {
   "cell_type": "code",
   "execution_count": 4,
   "id": "82be775a-2760-479f-ab85-6c50c91081e4",
   "metadata": {
    "execution": {
     "iopub.execute_input": "2023-11-28T14:37:49.499396Z",
     "iopub.status.busy": "2023-11-28T14:37:49.499019Z",
     "iopub.status.idle": "2023-11-28T14:37:49.503974Z",
     "shell.execute_reply": "2023-11-28T14:37:49.503144Z",
     "shell.execute_reply.started": "2023-11-28T14:37:49.499374Z"
    },
    "tags": []
   },
   "outputs": [],
   "source": [
    "def preprocess_text(text):\n",
    "    # Convert to lowercase\n",
    "    text = text.lower()\n",
    "\n",
    "    # Remove punctuation and special characters\n",
    "    text = re.sub(r\"[^\\w\\s]\", \"\", text)\n",
    "\n",
    "    # Tokenization (you can customize this based on your needs)\n",
    "    tokens = text.split()\n",
    "\n",
    "    # Remove stopwords\n",
    "    stop_words = set(stopwords.words(\"english\"))\n",
    "    tokens = [word for word in tokens if word not in stop_words]\n",
    "\n",
    "    # Join tokens back into a string\n",
    "    preprocessed_text = \" \".join(tokens)\n",
    "\n",
    "    return preprocessed_text"
   ]
  },
  {
   "cell_type": "code",
   "execution_count": 5,
   "id": "3bd6c78d-194f-4658-9d80-bce2775dde21",
   "metadata": {
    "execution": {
     "iopub.execute_input": "2023-11-28T14:37:51.984559Z",
     "iopub.status.busy": "2023-11-28T14:37:51.984196Z",
     "iopub.status.idle": "2023-11-28T14:37:57.884619Z",
     "shell.execute_reply": "2023-11-28T14:37:57.883998Z",
     "shell.execute_reply.started": "2023-11-28T14:37:51.984537Z"
    },
    "tags": []
   },
   "outputs": [],
   "source": [
    "# Apply preprocessing to the comments\n",
    "df[\"processed_text\"] = df[\"text\"].apply(preprocess_text)\n",
    "df_t[\"processed_text\"] = df_t[\"text\"].apply(preprocess_text)\n",
    "df['label'] = df['label'].replace({0:1})\n",
    "df_t['label'] = df_t['label'].replace({0:1})"
   ]
  },
  {
   "cell_type": "code",
   "execution_count": 6,
   "id": "5dbb4bec-d653-4ae4-b516-cb98cdaeea5c",
   "metadata": {
    "execution": {
     "iopub.execute_input": "2023-11-28T14:37:59.274796Z",
     "iopub.status.busy": "2023-11-28T14:37:59.274414Z",
     "iopub.status.idle": "2023-11-28T14:38:00.691653Z",
     "shell.execute_reply": "2023-11-28T14:38:00.690999Z",
     "shell.execute_reply.started": "2023-11-28T14:37:59.274773Z"
    },
    "tags": []
   },
   "outputs": [],
   "source": [
    "# Tokenization\n",
    "texts = df[\"processed_text\"]\n",
    "labels = np.array(df[\"label\"])\n",
    "\n",
    "tokenizer = Tokenizer()\n",
    "tokenizer.fit_on_texts(texts)\n",
    "sequences = tokenizer.texts_to_sequences(texts)\n",
    "\n",
    "vocab_size = len(tokenizer.word_index) + 1\n",
    "max_length = max(len(seq) for seq in sequences)\n",
    "embedding_dim = 100\n",
    "\n",
    "padded_sequences = pad_sequences(sequences, maxlen=max_length)"
   ]
  },
  {
   "cell_type": "code",
   "execution_count": 9,
   "id": "6223eb5e-d198-48af-8210-10842fae778e",
   "metadata": {
    "execution": {
     "iopub.execute_input": "2023-11-28T14:38:46.814657Z",
     "iopub.status.busy": "2023-11-28T14:38:46.814284Z",
     "iopub.status.idle": "2023-11-28T14:56:37.257139Z",
     "shell.execute_reply": "2023-11-28T14:56:37.256551Z",
     "shell.execute_reply.started": "2023-11-28T14:38:46.814635Z"
    },
    "tags": []
   },
   "outputs": [
    {
     "name": "stdout",
     "output_type": "stream",
     "text": [
      "Epoch 1/10\n",
      "1/1 [==============================] - 14s 14s/step - loss: 0.6919 - accuracy: 0.6744\n",
      "Epoch 2/10\n",
      "1/1 [==============================] - 12s 12s/step - loss: 0.6680 - accuracy: 0.8652\n",
      "Epoch 3/10\n",
      "1/1 [==============================] - 12s 12s/step - loss: 0.6452 - accuracy: 0.8652\n",
      "Epoch 4/10\n",
      "1/1 [==============================] - 12s 12s/step - loss: 0.6223 - accuracy: 0.8652\n",
      "Epoch 5/10\n",
      "1/1 [==============================] - 12s 12s/step - loss: 0.5994 - accuracy: 0.8652\n",
      "Epoch 6/10\n",
      "1/1 [==============================] - 12s 12s/step - loss: 0.5790 - accuracy: 0.8652\n",
      "Epoch 7/10\n",
      "1/1 [==============================] - 12s 12s/step - loss: 0.5684 - accuracy: 0.8652\n",
      "Epoch 8/10\n",
      "1/1 [==============================] - 12s 12s/step - loss: 0.5773 - accuracy: 0.8652\n",
      "Epoch 9/10\n",
      "1/1 [==============================] - 12s 12s/step - loss: 0.5723 - accuracy: 0.8652\n",
      "Epoch 10/10\n",
      "1/1 [==============================] - 12s 12s/step - loss: 0.5560 - accuracy: 0.8652\n",
      "Epoch 1/10\n",
      "1/1 [==============================] - 12s 12s/step - loss: 0.6042 - accuracy: 0.8540\n",
      "Epoch 2/10\n",
      "1/1 [==============================] - 12s 12s/step - loss: 0.5940 - accuracy: 0.8540\n",
      "Epoch 3/10\n",
      "1/1 [==============================] - 12s 12s/step - loss: 0.5866 - accuracy: 0.8540\n",
      "Epoch 4/10\n",
      "1/1 [==============================] - 12s 12s/step - loss: 0.5801 - accuracy: 0.8540\n",
      "Epoch 5/10\n",
      "1/1 [==============================] - 12s 12s/step - loss: 0.5726 - accuracy: 0.8540\n",
      "Epoch 6/10\n",
      "1/1 [==============================] - 12s 12s/step - loss: 0.5627 - accuracy: 0.8540\n",
      "Epoch 7/10\n",
      "1/1 [==============================] - 12s 12s/step - loss: 0.5489 - accuracy: 0.8540\n",
      "Epoch 8/10\n",
      "1/1 [==============================] - 12s 12s/step - loss: 0.5301 - accuracy: 0.8540\n",
      "Epoch 9/10\n",
      "1/1 [==============================] - 12s 12s/step - loss: 0.5048 - accuracy: 0.8540\n",
      "Epoch 10/10\n",
      "1/1 [==============================] - 12s 12s/step - loss: 0.4709 - accuracy: 0.8540\n",
      "Epoch 1/10\n",
      "1/1 [==============================] - 12s 12s/step - loss: 0.5942 - accuracy: 0.8322\n",
      "Epoch 2/10\n",
      "1/1 [==============================] - 12s 12s/step - loss: 0.5778 - accuracy: 0.8320\n",
      "Epoch 3/10\n",
      "1/1 [==============================] - 12s 12s/step - loss: 0.5502 - accuracy: 0.8300\n",
      "Epoch 4/10\n",
      "1/1 [==============================] - 12s 12s/step - loss: 0.5007 - accuracy: 0.8200\n",
      "Epoch 5/10\n",
      "1/1 [==============================] - 12s 12s/step - loss: 0.4266 - accuracy: 0.7710\n",
      "Epoch 6/10\n",
      "1/1 [==============================] - 12s 12s/step - loss: 0.4924 - accuracy: 0.3886\n",
      "Epoch 7/10\n",
      "1/1 [==============================] - 12s 12s/step - loss: 0.3280 - accuracy: 0.7066\n",
      "Epoch 8/10\n",
      "1/1 [==============================] - 12s 12s/step - loss: 0.2941 - accuracy: 0.7820\n",
      "Epoch 9/10\n",
      "1/1 [==============================] - 12s 12s/step - loss: 0.2674 - accuracy: 0.7996\n",
      "Epoch 10/10\n",
      "1/1 [==============================] - 12s 12s/step - loss: 0.2321 - accuracy: 0.8052\n",
      "Epoch 1/10\n",
      "1/1 [==============================] - 12s 12s/step - loss: 0.5038 - accuracy: 0.7720\n",
      "Epoch 2/10\n",
      "1/1 [==============================] - 12s 12s/step - loss: 0.4786 - accuracy: 0.7650\n",
      "Epoch 3/10\n",
      "1/1 [==============================] - 12s 12s/step - loss: 0.4433 - accuracy: 0.7570\n",
      "Epoch 4/10\n",
      "1/1 [==============================] - 12s 12s/step - loss: 0.4032 - accuracy: 0.7458\n",
      "Epoch 5/10\n",
      "1/1 [==============================] - 12s 12s/step - loss: 0.3599 - accuracy: 0.7366\n",
      "Epoch 6/10\n",
      "1/1 [==============================] - 12s 12s/step - loss: 0.3120 - accuracy: 0.7308\n",
      "Epoch 7/10\n",
      "1/1 [==============================] - 12s 12s/step - loss: 0.2571 - accuracy: 0.7304\n",
      "Epoch 8/10\n",
      "1/1 [==============================] - 12s 12s/step - loss: 0.1926 - accuracy: 0.7322\n",
      "Epoch 9/10\n",
      "1/1 [==============================] - 12s 12s/step - loss: 0.1175 - accuracy: 0.7416\n",
      "Epoch 10/10\n",
      "1/1 [==============================] - 12s 12s/step - loss: 0.0501 - accuracy: 0.7704\n",
      "Epoch 1/10\n",
      "1/1 [==============================] - 12s 12s/step - loss: 0.4862 - accuracy: 0.6616\n",
      "Epoch 2/10\n",
      "1/1 [==============================] - 12s 12s/step - loss: 0.4644 - accuracy: 0.6240\n",
      "Epoch 3/10\n",
      "1/1 [==============================] - 12s 12s/step - loss: 0.4293 - accuracy: 0.6202\n",
      "Epoch 4/10\n",
      "1/1 [==============================] - 12s 12s/step - loss: 0.3752 - accuracy: 0.6346\n",
      "Epoch 5/10\n",
      "1/1 [==============================] - 12s 12s/step - loss: 0.3057 - accuracy: 0.6624\n",
      "Epoch 6/10\n",
      "1/1 [==============================] - 12s 12s/step - loss: 0.2271 - accuracy: 0.7000\n",
      "Epoch 7/10\n",
      "1/1 [==============================] - 12s 12s/step - loss: 0.1532 - accuracy: 0.7486\n",
      "Epoch 8/10\n",
      "1/1 [==============================] - 12s 12s/step - loss: 0.1301 - accuracy: 0.7946\n",
      "Epoch 9/10\n",
      "1/1 [==============================] - 12s 12s/step - loss: 0.0542 - accuracy: 0.7404\n",
      "Epoch 10/10\n",
      "1/1 [==============================] - 12s 12s/step - loss: 0.0449 - accuracy: 0.7296\n",
      "Epoch 1/10\n",
      "1/1 [==============================] - 12s 12s/step - loss: 0.5187 - accuracy: 0.6214\n",
      "Epoch 2/10\n",
      "1/1 [==============================] - 12s 12s/step - loss: 0.4930 - accuracy: 0.6284\n",
      "Epoch 3/10\n",
      "1/1 [==============================] - 12s 12s/step - loss: 0.4546 - accuracy: 0.6454\n",
      "Epoch 4/10\n",
      "1/1 [==============================] - 12s 12s/step - loss: 0.4092 - accuracy: 0.6642\n",
      "Epoch 5/10\n",
      "1/1 [==============================] - 12s 12s/step - loss: 0.3603 - accuracy: 0.6864\n",
      "Epoch 6/10\n",
      "1/1 [==============================] - 12s 12s/step - loss: 0.3097 - accuracy: 0.7066\n",
      "Epoch 7/10\n",
      "1/1 [==============================] - 12s 12s/step - loss: 0.2582 - accuracy: 0.7246\n",
      "Epoch 8/10\n",
      "1/1 [==============================] - 12s 12s/step - loss: 0.2060 - accuracy: 0.7484\n",
      "Epoch 9/10\n",
      "1/1 [==============================] - 12s 12s/step - loss: 0.1525 - accuracy: 0.7664\n",
      "Epoch 10/10\n",
      "1/1 [==============================] - 12s 12s/step - loss: 0.0964 - accuracy: 0.7828\n",
      "Epoch 1/10\n",
      "1/1 [==============================] - 12s 12s/step - loss: 0.4399 - accuracy: 0.6992\n",
      "Epoch 2/10\n",
      "1/1 [==============================] - 12s 12s/step - loss: 0.4082 - accuracy: 0.7078\n",
      "Epoch 3/10\n",
      "1/1 [==============================] - 12s 12s/step - loss: 0.3592 - accuracy: 0.7124\n",
      "Epoch 4/10\n",
      "1/1 [==============================] - 12s 12s/step - loss: 0.2943 - accuracy: 0.7120\n",
      "Epoch 5/10\n",
      "1/1 [==============================] - 12s 12s/step - loss: 0.2130 - accuracy: 0.7046\n",
      "Epoch 6/10\n",
      "1/1 [==============================] - 12s 12s/step - loss: 0.1146 - accuracy: 0.6828\n",
      "Epoch 7/10\n",
      "1/1 [==============================] - 12s 12s/step - loss: 0.0428 - accuracy: 0.6126\n",
      "Epoch 8/10\n",
      "1/1 [==============================] - 12s 12s/step - loss: -0.0838 - accuracy: 0.6552\n",
      "Epoch 9/10\n",
      "1/1 [==============================] - 12s 12s/step - loss: -0.1938 - accuracy: 0.7038\n",
      "Epoch 10/10\n",
      "1/1 [==============================] - 12s 12s/step - loss: -0.3302 - accuracy: 0.7172\n",
      "Epoch 1/10\n",
      "1/1 [==============================] - 12s 12s/step - loss: 0.8388 - accuracy: 0.5120\n",
      "Epoch 2/10\n",
      "1/1 [==============================] - 12s 12s/step - loss: 0.4154 - accuracy: 0.7196\n",
      "Epoch 3/10\n",
      "1/1 [==============================] - 12s 12s/step - loss: 0.3979 - accuracy: 0.7354\n",
      "Epoch 4/10\n",
      "1/1 [==============================] - 12s 12s/step - loss: 0.3789 - accuracy: 0.7428\n",
      "Epoch 5/10\n",
      "1/1 [==============================] - 12s 12s/step - loss: 0.3583 - accuracy: 0.7470\n",
      "Epoch 6/10\n",
      "1/1 [==============================] - 12s 12s/step - loss: 0.3367 - accuracy: 0.7510\n",
      "Epoch 7/10\n",
      "1/1 [==============================] - 12s 12s/step - loss: 0.3142 - accuracy: 0.7530\n",
      "Epoch 8/10\n",
      "1/1 [==============================] - 12s 12s/step - loss: 0.2909 - accuracy: 0.7564\n",
      "Epoch 9/10\n",
      "1/1 [==============================] - 12s 12s/step - loss: 0.2669 - accuracy: 0.7610\n",
      "Epoch 10/10\n",
      "1/1 [==============================] - 12s 12s/step - loss: 0.2421 - accuracy: 0.7636\n",
      "Epoch 1/10\n",
      "1/1 [==============================] - 12s 12s/step - loss: 0.5442 - accuracy: 0.7080\n",
      "Epoch 2/10\n",
      "1/1 [==============================] - 12s 12s/step - loss: 0.5288 - accuracy: 0.7098\n",
      "Epoch 3/10\n",
      "1/1 [==============================] - 12s 12s/step - loss: 0.5055 - accuracy: 0.7148\n",
      "Epoch 4/10\n",
      "1/1 [==============================] - 12s 12s/step - loss: 0.4773 - accuracy: 0.7210\n",
      "Epoch 5/10\n",
      "1/1 [==============================] - 12s 12s/step - loss: 0.4460 - accuracy: 0.7256\n",
      "Epoch 6/10\n",
      "1/1 [==============================] - 12s 12s/step - loss: 0.4129 - accuracy: 0.7306\n",
      "Epoch 7/10\n",
      "1/1 [==============================] - 12s 12s/step - loss: 0.3788 - accuracy: 0.7374\n",
      "Epoch 8/10\n",
      "1/1 [==============================] - 12s 12s/step - loss: 0.3442 - accuracy: 0.7414\n",
      "Epoch 9/10\n",
      "1/1 [==============================] - 12s 12s/step - loss: 0.3095 - accuracy: 0.7456\n",
      "Epoch 10/10\n",
      "1/1 [==============================] - 12s 12s/step - loss: 0.2748 - accuracy: 0.7498\n"
     ]
    }
   ],
   "source": [
    "# Model definition\n",
    "model = Sequential()\n",
    "model.add(Embedding(vocab_size, embedding_dim, input_length=max_length))\n",
    "model.add(Bidirectional(GRU(256)))\n",
    "\n",
    "model.add(Dense(1, activation='sigmoid'))\n",
    "model.compile(optimizer='adam', loss='binary_crossentropy', metrics=['accuracy'])\n",
    "\n",
    "history = []\n",
    "# Training\n",
    "step = 5000\n",
    "for i in range(0, 45000, step):\n",
    "    h = model.fit(padded_sequences[i:i + step], labels[i:i + step], batch_size=len(padded_sequences[i:i + step]), epochs=10)\n",
    "    history += h.history['accuracy']\n"
   ]
  },
  {
   "cell_type": "code",
   "execution_count": 10,
   "id": "d354af84-3e65-4971-9423-98372990be45",
   "metadata": {
    "execution": {
     "iopub.execute_input": "2023-11-28T14:56:49.185010Z",
     "iopub.status.busy": "2023-11-28T14:56:49.184625Z",
     "iopub.status.idle": "2023-11-28T14:57:13.607199Z",
     "shell.execute_reply": "2023-11-28T14:57:13.606584Z",
     "shell.execute_reply.started": "2023-11-28T14:56:49.184987Z"
    },
    "tags": []
   },
   "outputs": [
    {
     "name": "stdout",
     "output_type": "stream",
     "text": [
      "375/375 [==============================] - 24s 63ms/step\n"
     ]
    }
   ],
   "source": [
    "# Testing\n",
    "test_texts = df_t['processed_text']\n",
    "true_labels = np.array(df_t['label'])\n",
    "\n",
    "test_sequences = tokenizer.texts_to_sequences(test_texts)\n",
    "padded_test_sequences = pad_sequences(test_sequences, maxlen=max_length)\n",
    "predictions = model.predict(padded_test_sequences)\n",
    "\n",
    "binary_predictions = [1 if p > 0.5 else -1 for p in predictions]"
   ]
  },
  {
   "cell_type": "code",
   "execution_count": 11,
   "id": "e0e2a016-88e7-4057-ba27-d419039638ec",
   "metadata": {
    "execution": {
     "iopub.execute_input": "2023-11-28T14:57:16.859649Z",
     "iopub.status.busy": "2023-11-28T14:57:16.858977Z",
     "iopub.status.idle": "2023-11-28T14:57:16.865487Z",
     "shell.execute_reply": "2023-11-28T14:57:16.864942Z",
     "shell.execute_reply.started": "2023-11-28T14:57:16.859623Z"
    },
    "tags": []
   },
   "outputs": [
    {
     "name": "stdout",
     "output_type": "stream",
     "text": [
      "0.672789513233698\n"
     ]
    }
   ],
   "source": [
    "acc = accuracy_score(true_labels, binary_predictions)\n",
    "print(acc)"
   ]
  }
 ],
 "metadata": {
  "kernelspec": {
   "display_name": "saturn (Python 3)",
   "language": "python",
   "name": "python3"
  },
  "language_info": {
   "codemirror_mode": {
    "name": "ipython",
    "version": 3
   },
   "file_extension": ".py",
   "mimetype": "text/x-python",
   "name": "python",
   "nbconvert_exporter": "python",
   "pygments_lexer": "ipython3",
   "version": "3.9.15"
  }
 },
 "nbformat": 4,
 "nbformat_minor": 5
}
