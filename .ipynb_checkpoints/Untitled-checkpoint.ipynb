{
 "cells": [
  {
   "cell_type": "code",
   "execution_count": null,
   "id": "12e7827e-3ca9-4857-9155-b03372ccd086",
   "metadata": {
    "tags": []
   },
   "outputs": [],
   "source": [
    "import numpy as np\n",
    "import pandas as pd\n",
    "from sklearn.neural_network import MLPClassifier\n",
    "from sklearn.metrics import accuracy_score"
   ]
  },
  {
   "cell_type": "code",
   "execution_count": 4,
   "id": "06ff1f93-4fdf-4c0a-820b-a6ba9ec3e9d2",
   "metadata": {
    "execution": {
     "iopub.execute_input": "2023-11-16T09:54:09.668375Z",
     "iopub.status.busy": "2023-11-16T09:54:09.668003Z",
     "iopub.status.idle": "2023-11-16T09:54:09.673952Z",
     "shell.execute_reply": "2023-11-16T09:54:09.673346Z",
     "shell.execute_reply.started": "2023-11-16T09:54:09.668353Z"
    },
    "tags": []
   },
   "outputs": [],
   "source": [
    "def open_dataset(X_path,y_path):\n",
    "\n",
    "    with open(\"datasets/mnist/\"+X_path,'rb') as file:\n",
    "        \n",
    "        magic_number = int.from_bytes(file.read(4), byteorder='big')\n",
    "        num_images = int.from_bytes(file.read(4), byteorder='big')\n",
    "        num_rows = int.from_bytes(file.read(4), byteorder='big')\n",
    "        num_cols = int.from_bytes(file.read(4), byteorder='big')\n",
    "\n",
    "        df = np.fromfile(file,dtype=np.uint8)\n",
    "        df = df.reshape(num_images, num_rows*num_cols)\n",
    "        df = pd.DataFrame(df)\n",
    "\n",
    "    with open(\"datasets/mnist/\"+y_path,'rb') as file:\n",
    "        magic_number = int.from_bytes(file.read(4), byteorder='big')\n",
    "        num_images = int.from_bytes(file.read(4), byteorder='big')\n",
    "        \n",
    "        y = np.fromfile(file,dtype=np.uint8)\n",
    "    \n",
    "    return df,y"
   ]
  },
  {
   "cell_type": "code",
   "execution_count": 5,
   "id": "7067251c-b68c-4f8a-a7c0-f15098716a3b",
   "metadata": {
    "execution": {
     "iopub.execute_input": "2023-11-16T09:54:12.469887Z",
     "iopub.status.busy": "2023-11-16T09:54:12.469495Z",
     "iopub.status.idle": "2023-11-16T09:54:12.516413Z",
     "shell.execute_reply": "2023-11-16T09:54:12.515758Z",
     "shell.execute_reply.started": "2023-11-16T09:54:12.469862Z"
    },
    "tags": []
   },
   "outputs": [],
   "source": [
    "x_train,y_train = open_dataset('train-images.idx3-ubyte','train-labels.idx1-ubyte')\n",
    "x_test,y_test = open_dataset('t10k-images.idx3-ubyte','t10k-labels.idx1-ubyte')"
   ]
  },
  {
   "cell_type": "code",
   "execution_count": 1,
   "id": "16ed0b50-cbdb-40a3-a063-d00f35be8e23",
   "metadata": {
    "execution": {
     "iopub.execute_input": "2023-11-16T10:59:56.517879Z",
     "iopub.status.busy": "2023-11-16T10:59:56.517512Z",
     "iopub.status.idle": "2023-11-16T10:59:56.724537Z",
     "shell.execute_reply": "2023-11-16T10:59:56.723597Z",
     "shell.execute_reply.started": "2023-11-16T10:59:56.517852Z"
    },
    "tags": []
   },
   "outputs": [
    {
     "ename": "NameError",
     "evalue": "name 'MLPClassifier' is not defined",
     "output_type": "error",
     "traceback": [
      "\u001b[0;31m---------------------------------------------------------------------------\u001b[0m",
      "\u001b[0;31mNameError\u001b[0m                                 Traceback (most recent call last)",
      "Cell \u001b[0;32mIn[1], line 1\u001b[0m\n\u001b[0;32m----> 1\u001b[0m model \u001b[38;5;241m=\u001b[39m \u001b[43mMLPClassifier\u001b[49m(\n\u001b[1;32m      2\u001b[0m     hidden_layer_sizes\u001b[38;5;241m=\u001b[39m(\u001b[38;5;241m512\u001b[39m, \u001b[38;5;241m256\u001b[39m, \u001b[38;5;241m128\u001b[39m), \n\u001b[1;32m      3\u001b[0m     activation\u001b[38;5;241m=\u001b[39m\u001b[38;5;124m'\u001b[39m\u001b[38;5;124mrelu\u001b[39m\u001b[38;5;124m'\u001b[39m, \n\u001b[1;32m      4\u001b[0m     max_iter\u001b[38;5;241m=\u001b[39m\u001b[38;5;241m2\u001b[39m, \n\u001b[1;32m      5\u001b[0m     batch_size\u001b[38;5;241m=\u001b[39m\u001b[38;5;241m64\u001b[39m, \n\u001b[1;32m      6\u001b[0m     verbose\u001b[38;5;241m=\u001b[39m\u001b[38;5;28;01mTrue\u001b[39;00m\n\u001b[1;32m      7\u001b[0m )\n\u001b[1;32m      9\u001b[0m x \u001b[38;5;241m=\u001b[39m model\u001b[38;5;241m.\u001b[39mfit(x_train, y_train,callbacks\u001b[38;5;241m=\u001b[39m[history])\n\u001b[1;32m     11\u001b[0m predictions \u001b[38;5;241m=\u001b[39m model\u001b[38;5;241m.\u001b[39mpredict(x_test)\n",
      "\u001b[0;31mNameError\u001b[0m: name 'MLPClassifier' is not defined"
     ]
    }
   ],
   "source": [
    "model = MLPClassifier(\n",
    "    hidden_layer_sizes=(512, 256, 128), \n",
    "    activation='relu', \n",
    "    max_iter=2, \n",
    "    batch_size=64, \n",
    "    verbose=True\n",
    ")\n",
    "\n",
    "x = model.fit(x_train, y_train,callbacks=[history])\n",
    "\n",
    "predictions = model.predict(x_test)\n",
    "\n",
    "# ارزیابی مدل\n",
    "accuracy = accuracy_score(y_test, predictions)\n",
    "print(f' {accuracy * 100:.2f}%')\n",
    "print(x.history)"
   ]
  },
  {
   "cell_type": "code",
   "execution_count": null,
   "id": "ef5c7ef8-2f21-4ee1-a5ca-a4e7b9d10784",
   "metadata": {},
   "outputs": [],
   "source": []
  }
 ],
 "metadata": {
  "kernelspec": {
   "display_name": "saturn (Python 3)",
   "language": "python",
   "name": "python3"
  },
  "language_info": {
   "codemirror_mode": {
    "name": "ipython",
    "version": 3
   },
   "file_extension": ".py",
   "mimetype": "text/x-python",
   "name": "python",
   "nbconvert_exporter": "python",
   "pygments_lexer": "ipython3",
   "version": "3.9.15"
  }
 },
 "nbformat": 4,
 "nbformat_minor": 5
}
